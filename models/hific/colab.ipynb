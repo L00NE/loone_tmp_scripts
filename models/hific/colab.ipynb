{
  "cells": [
    {
      "cell_type": "markdown",
      "metadata": {
        "id": "ErOf16E05Dn7"
      },
      "source": [
        "# High-Fidelity Generative Image Compression\n",
        "\n",
        "This colab can be used to compress images using HiFiC. This can also be achieved\n",
        "by running `tfci.py`, as [explained in the README](https://github.com/tensorflow/compression/tree/master/models/hific#running-models-trained-by-us-locally).\n",
        "\n",
        "Please visit [hific.github.io](https://hific.github.io) for more information."
      ]
    },
    {
      "cell_type": "markdown",
      "metadata": {
        "id": "Umer7W0VbITT"
      },
      "source": [
        "## Setup Colab"
      ]
    },
    {
      "cell_type": "code",
      "execution_count": null,
      "metadata": {
        "id": "LO_MNEQ7Bhbw"
      },
      "outputs": [],
      "source": [
        "# Installs the latest version of TFC compatible with the installed TF version.\n",
        "!pip install tensorflow-compression~=$(pip show tensorflow | perl -p -0777 -e 's/.*Version: (\\d+\\.\\d+).*/\\1.0/sg')\n",
        "\n",
        "# Downloads the 'models' directory from Github.\n",
        "![[ -e /tfc ]] || git clone https://github.com/tensorflow/compression /tfc\n",
        "%cd /tfc/models\n",
        "\n",
        "# Checks if tfci.py is available.\n",
        "import tfci\n"
      ]
    },
    {
      "cell_type": "markdown",
      "metadata": {
        "id": "op4hPwy_mkPm"
      },
      "source": [
        "## Enabling GPU\n",
        "\n",
        "GPU should be enabled for this colab. If the next cell prints a warning, do the following:\n",
        "- Navigate to Edit→Notebook Settings\n",
        "- select GPU from the Hardware Accelerator drop-down\n"
      ]
    },
    {
      "cell_type": "code",
      "execution_count": null,
      "metadata": {
        "id": "x-yLUG_tmo3M"
      },
      "outputs": [],
      "source": [
        "import tensorflow as tf\n",
        "\n",
        "if not tf.config.list_physical_devices('GPU'):\n",
        "  print('WARNING: No GPU found. Might be slow!')\n",
        "else:\n",
        "  print('Found GPU.')"
      ]
    },
    {
      "cell_type": "markdown",
      "metadata": {
        "id": "rQ9-8ZsTf7Hj"
      },
      "source": [
        "## Imports and Definitions"
      ]
    },
    {
      "cell_type": "code",
      "execution_count": null,
      "metadata": {
        "id": "vtd1l70Pf95V"
      },
      "outputs": [],
      "source": [
        "import os\n",
        "import zipfile\n",
        "from google.colab import files\n",
        "import collections\n",
        "from PIL import Image\n",
        "from IPython.display import Image as DisplayImage\n",
        "from IPython.display import Javascript\n",
        "from IPython.core.display import display, HTML\n",
        "import tfci\n",
        "import urllib.request\n",
        "\n",
        "tf.get_logger().setLevel('WARN')  # Only show Warnings\n",
        "\n",
        "FILES_DIR = '/content/files'\n",
        "OUT_DIR = '/content/out'\n",
        "DEFAULT_IMAGE_URL = ('https://storage.googleapis.com/hific/clic2020/'\n",
        "                     'images/originals/ad249bba099568403dc6b97bc37f8d74.png')\n",
        "\n",
        "os.makedirs(FILES_DIR, exist_ok=True)\n",
        "os.makedirs(OUT_DIR, exist_ok=True)\n",
        "\n",
        "File = collections.namedtuple('File', ['full_path', 'num_bytes', 'bpp'])\n",
        "\n",
        "def print_html(html):\n",
        "  display(HTML(html + '<br/>'))\n",
        "\n",
        "def make_cell_large():\n",
        "  display(Javascript(\n",
        "      '''google.colab.output.setIframeHeight(0, true, {maxHeight: 5000})'''))\n",
        "\n",
        "def get_default_image(output_dir):\n",
        "  output_path = os.path.join(output_dir, os.path.basename(DEFAULT_IMAGE_URL))\n",
        "  print('Downloading', DEFAULT_IMAGE_URL, '\\n->', output_path)\n",
        "  urllib.request.urlretrieve(DEFAULT_IMAGE_URL, output_path)\n"
      ]
    },
    {
      "cell_type": "markdown",
      "metadata": {
        "id": "4Ngs9WvmbTMH"
      },
      "source": [
        "## Load files"
      ]
    },
    {
      "cell_type": "code",
      "execution_count": null,
      "metadata": {
        "id": "NgtIlL2ADCI2"
      },
      "outputs": [],
      "source": [
        "#@title Setup { vertical-output: false, run: \"auto\", display-mode: \"form\" }\n",
        "#@markdown #### Custom Images\n",
        "#@markdown Tick the following if you want to upload your own images to compress.\n",
        "#@markdown Otherwise, a default image will be used.\n",
        "#@markdown\n",
        "#@markdown **Note**: We support JPG and PNG (without alpha channels).\n",
        "#@markdown\n",
        "\n",
        "upload_custom_images = False #@param {type:\"boolean\", label:\"HI\"}\n",
        "\n",
        "if upload_custom_images:\n",
        "  uploaded = files.upload()\n",
        "  for name, content in uploaded.items():\n",
        "    with open(os.path.join(FILES_DIR, name), 'wb') as fout:\n",
        "      print('Writing', name, '...')\n",
        "      fout.write(content)\n",
        "\n",
        "#@markdown #### Select a model\n",
        "#@markdown Different models target different bitrates.\n",
        "\n",
        "model = 'hific-lo' #@param [\"hific-lo\", \"hific-mi\", \"hific-hi\"]\n"
      ]
    },
    {
      "cell_type": "code",
      "execution_count": null,
      "metadata": {
        "id": "GYcbc2HupTRD"
      },
      "outputs": [],
      "source": [
        "if 'upload_custom_images' not in locals():\n",
        "  print('ERROR: Please run the previous cell!')\n",
        "  # Setting defaults anyway.\n",
        "  upload_custom_images = False\n",
        "  model = 'hific-lo'"
      ]
    },
    {
      "cell_type": "code",
      "execution_count": null,
      "metadata": {
        "id": "e0C4vMqZsnqA"
      },
      "outputs": [],
      "source": [
        "all_files = os.listdir(FILES_DIR)\n",
        "if not upload_custom_images or not all_files:\n",
        "  print('Downloading default image...')\n",
        "  get_default_image(FILES_DIR)\n",
        "  print()\n",
        "\n",
        "all_files = os.listdir(FILES_DIR)\n",
        "print(f'Got the following files ({len(all_files)}):')\n",
        "\n",
        "for file_name in all_files:\n",
        "  img = Image.open(os.path.join(FILES_DIR, file_name))\n",
        "  w, h = img.size\n",
        "  img = img.resize((w // 15, h // 15))\n",
        "  print('- ' + file_name + ':')\n",
        "  display(img)"
      ]
    },
    {
      "cell_type": "markdown",
      "metadata": {
        "id": "guX3Q_AsTE7-"
      },
      "source": [
        "# Compress images"
      ]
    },
    {
      "cell_type": "code",
      "execution_count": null,
      "metadata": {
        "id": "kd02HOhLBj6e"
      },
      "outputs": [],
      "source": [
        "SUPPORTED_EXT = {'.png', '.jpg'}\n",
        "\n",
        "all_files = os.listdir(FILES_DIR)\n",
        "if not all_files:\n",
        "  raise ValueError(\"Please upload images!\")\n",
        "\n",
        "def get_bpp(image_dimensions, num_bytes):\n",
        "  w, h = image_dimensions\n",
        "  return num_bytes * 8 / (w * h)\n",
        "\n",
        "def has_alpha(img_p):\n",
        "  im = Image.open(img_p)\n",
        "  return im.mode == 'RGBA'\n",
        "\n",
        "all_outputs = []\n",
        "for file_name in all_files:\n",
        "  if os.path.isdir(file_name):\n",
        "    continue\n",
        "  if not any(file_name.endswith(ext) for ext in SUPPORTED_EXT):\n",
        "    print('Skipping', file_name, '...')\n",
        "    continue\n",
        "  full_path = os.path.join(FILES_DIR, file_name)\n",
        "  if has_alpha(full_path):\n",
        "    print('Skipping because of alpha channel:', file_name)\n",
        "    continue\n",
        "  file_name, _ = os.path.splitext(file_name)\n",
        "\n",
        "  compressed_path = os.path.join(OUT_DIR, f'{file_name}_{model}.tfci')\n",
        "  output_path = os.path.join(OUT_DIR, f'{file_name}_{model}.png')\n",
        "\n",
        "  if os.path.isfile(output_path):\n",
        "    print('Exists already:', output_path)\n",
        "    num_bytes = os.path.getsize(compressed_path)\n",
        "    all_outputs.append(\n",
        "      File(output_path, num_bytes,\n",
        "           get_bpp(Image.open(full_path).size, num_bytes)))\n",
        "    continue\n",
        "\n",
        "  print('Compressing', file_name, 'with', model, '...')\n",
        "  tfci.compress(model, full_path, compressed_path)\n",
        "  num_bytes = os.path.getsize(compressed_path)\n",
        "  print(f'Compressed to {num_bytes} bytes.')\n",
        "\n",
        "  print('Decompressing...')\n",
        "  tfci.decompress(compressed_path, output_path)\n",
        "\n",
        "  all_outputs.append(\n",
        "      File(output_path, num_bytes,\n",
        "           get_bpp(Image.open(full_path).size, num_bytes)))\n",
        "\n",
        "print('All done!')"
      ]
    },
    {
      "cell_type": "markdown",
      "metadata": {
        "id": "HQhQQs-CTkgy"
      },
      "source": [
        "# Show output"
      ]
    },
    {
      "cell_type": "code",
      "execution_count": null,
      "metadata": {
        "id": "3nVCPeDnskD8"
      },
      "outputs": [],
      "source": [
        "make_cell_large()  # Larger output window.\n",
        "\n",
        "for file in all_outputs:\n",
        "  print_html('<hr/>')\n",
        "  print(f'Showing {file.full_path} | {file.num_bytes//1000}kB | {file.bpp:.4f}bpp')\n",
        "  display(Image.open(file.full_path))\n",
        "  print_html('<hr/>')"
      ]
    },
    {
      "cell_type": "markdown",
      "metadata": {
        "id": "4b-wkBnyrTAR"
      },
      "source": [
        "### Download all compressed images.\n",
        "\n",
        "To download all images, run the following cell.\n",
        "\n",
        "You can also use the _Files_ tab on the left to manually select images.\n",
        "\n",
        "---\n",
        "\n",
        "#### **Note**: the images are saved as PNGs and thus very large. The bitrate used by HiFiC is given in the name."
      ]
    },
    {
      "cell_type": "code",
      "execution_count": null,
      "metadata": {
        "id": "9BKccvcTpj1k"
      },
      "outputs": [],
      "source": [
        "ZIP = '/content/images.zip'\n",
        "\n",
        "with zipfile.ZipFile(ZIP, 'w') as zf:\n",
        "  for f in all_outputs:\n",
        "    path_with_bpp = f.full_path.replace('.png', f'-{f.bpp:.3f}bpp.png')\n",
        "    zf.write(f.full_path, os.path.basename(path_with_bpp))\n",
        "\n",
        "files.download(ZIP)"
      ]
    },
    {
      "cell_type": "code",
      "source": [],
      "metadata": {
        "id": "u2DxJiIZTATa"
      },
      "execution_count": null,
      "outputs": []
    },
    {
      "cell_type": "code",
      "source": [
        "!pip install -U huggingface_hub"
      ],
      "metadata": {
        "colab": {
          "base_uri": "https://localhost:8080/"
        },
        "id": "UBfuC5wSTAWO",
        "outputId": "bfac9721-2c24-4ad2-94a8-3279c72914b3"
      },
      "execution_count": 1,
      "outputs": [
        {
          "output_type": "stream",
          "name": "stdout",
          "text": [
            "Requirement already satisfied: huggingface_hub in /usr/local/lib/python3.11/dist-packages (0.30.1)\n",
            "Requirement already satisfied: filelock in /usr/local/lib/python3.11/dist-packages (from huggingface_hub) (3.18.0)\n",
            "Requirement already satisfied: fsspec>=2023.5.0 in /usr/local/lib/python3.11/dist-packages (from huggingface_hub) (2025.3.2)\n",
            "Requirement already satisfied: packaging>=20.9 in /usr/local/lib/python3.11/dist-packages (from huggingface_hub) (24.2)\n",
            "Requirement already satisfied: pyyaml>=5.1 in /usr/local/lib/python3.11/dist-packages (from huggingface_hub) (6.0.2)\n",
            "Requirement already satisfied: requests in /usr/local/lib/python3.11/dist-packages (from huggingface_hub) (2.32.3)\n",
            "Requirement already satisfied: tqdm>=4.42.1 in /usr/local/lib/python3.11/dist-packages (from huggingface_hub) (4.67.1)\n",
            "Requirement already satisfied: typing-extensions>=3.7.4.3 in /usr/local/lib/python3.11/dist-packages (from huggingface_hub) (4.13.1)\n",
            "Requirement already satisfied: charset-normalizer<4,>=2 in /usr/local/lib/python3.11/dist-packages (from requests->huggingface_hub) (3.4.1)\n",
            "Requirement already satisfied: idna<4,>=2.5 in /usr/local/lib/python3.11/dist-packages (from requests->huggingface_hub) (3.10)\n",
            "Requirement already satisfied: urllib3<3,>=1.21.1 in /usr/local/lib/python3.11/dist-packages (from requests->huggingface_hub) (2.3.0)\n",
            "Requirement already satisfied: certifi>=2017.4.17 in /usr/local/lib/python3.11/dist-packages (from requests->huggingface_hub) (2025.1.31)\n"
          ]
        }
      ]
    },
    {
      "cell_type": "code",
      "source": [
        "!huggingface-cli download --token hf_** --repo-type dataset --resume-download crag-mm-2025/web-search-index-public --local-dir web-search-index-public"
      ],
      "metadata": {
        "colab": {
          "base_uri": "https://localhost:8080/"
        },
        "id": "dOnyq227TAY2",
        "outputId": "3b704849-d4fa-49d9-ccdb-a2060de08638"
      },
      "execution_count": 2,
      "outputs": [
        {
          "output_type": "stream",
          "name": "stdout",
          "text": [
            "/usr/local/lib/python3.11/dist-packages/huggingface_hub/file_download.py:896: FutureWarning: `resume_download` is deprecated and will be removed in version 1.0.0. Downloads always resume when possible. If you want to force a new download, use `force_download=True`.\n",
            "  warnings.warn(\n",
            "Fetching 8 files:   0% 0/8 [00:00<?, ?it/s]Downloading '14dc4182-0002-4ca0-a226-d39043b81948/data_level0.bin' to 'web-search-index-public/.cache/huggingface/download/14dc4182-0002-4ca0-a226-d39043b81948/fbme-ciW2w7sDkVUQUA_cJWEH_M=.669a8bdae46737926fdc577ca7a4a8d7aba269f29fa00cf6ff1365e75f933b86.incomplete'\n",
            "Downloading '14dc4182-0002-4ca0-a226-d39043b81948/index_metadata.pickle' to 'web-search-index-public/.cache/huggingface/download/14dc4182-0002-4ca0-a226-d39043b81948/XE2ITtlIf8G-DUFOk-gp6w6wg_k=.d8cc04e87f58c364e6ea78baa35fe65aff4a8a6a4089cc9360e56b6dd4a15e1b.incomplete'\n",
            "Downloading '14dc4182-0002-4ca0-a226-d39043b81948/link_lists.bin' to 'web-search-index-public/.cache/huggingface/download/14dc4182-0002-4ca0-a226-d39043b81948/dM4mKCgRnUxoeNeGTyznJVYpcB0=.99505c274c9d1d7f15047f76f5a0051287cb2f2770fc339a6bf193da6c03b76c.incomplete'\n",
            "\n",
            "data_level0.bin:   0% 0.00/68.7M [00:00<?, ?B/s]\u001b[ADownloading '.gitattributes' to 'web-search-index-public/.cache/huggingface/download/wPaCkH-WbT7GsmxMKKrNZTV4nSM=.5bcf35802afab3d81672915a9fbaea4d0fad265a.incomplete'\n",
            "\n",
            "\n",
            "index_metadata.pickle:   0% 0.00/1.09M [00:00<?, ?B/s]\u001b[A\u001b[A\n",
            "\n",
            "\n",
            "link_lists.bin:   0% 0.00/357k [00:00<?, ?B/s]\u001b[A\u001b[A\u001b[ADownloading 'chroma.sqlite3' to 'web-search-index-public/.cache/huggingface/download/ti1FOsPlFwSUXEOa-xgVYp3pt6Y=.e0408c845de0618e44bfcbe07dcdec7c309131b535a7ad813571aba0e9f9ed18.incomplete'\n",
            "Downloading '14dc4182-0002-4ca0-a226-d39043b81948/header.bin' to 'web-search-index-public/.cache/huggingface/download/14dc4182-0002-4ca0-a226-d39043b81948/djYhguG_252qzJKgqaU9C9n5VbM=.633d1936e6be43e6fd0a74cfa829bb4d64f41922136db2925f9dcee551fd9d8f.incomplete'\n",
            "Downloading 'README.md' to 'web-search-index-public/.cache/huggingface/download/Xn7B-BWUGOee2Y6hCZtEhtFu4BE=.0e6806538f5ef42613750fc217c5ce13aa6b6d02.incomplete'\n",
            "Downloading '14dc4182-0002-4ca0-a226-d39043b81948/length.bin' to 'web-search-index-public/.cache/huggingface/download/14dc4182-0002-4ca0-a226-d39043b81948/k9LxY-gHgRP0VyiHwySuuheFRCQ=.7761e67f6c87848bfb869bae51542513875a51ceba04284201364b680680bfb4.incomplete'\n",
            "link_lists.bin: 100% 357k/357k [00:00<00:00, 18.2MB/s]\n",
            "Download complete. Moving file to web-search-index-public/14dc4182-0002-4ca0-a226-d39043b81948/link_lists.bin\n",
            "\n",
            "\n",
            "\n",
            "header.bin: 100% 100/100 [00:00<00:00, 659kB/s]\n",
            "Download complete. Moving file to web-search-index-public/14dc4182-0002-4ca0-a226-d39043b81948/header.bin\n",
            "\n",
            "\n",
            "\n",
            "chroma.sqlite3:   0% 0.00/389M [00:00<?, ?B/s]\u001b[A\u001b[A\u001b[A\n",
            "\n",
            "\n",
            "\n",
            "index_metadata.pickle: 100% 1.09M/1.09M [00:00<00:00, 32.6MB/s]\n",
            "Download complete. Moving file to web-search-index-public/14dc4182-0002-4ca0-a226-d39043b81948/index_metadata.pickle\n",
            "length.bin: 100% 164k/164k [00:00<00:00, 29.5MB/s]\n",
            "Download complete. Moving file to web-search-index-public/14dc4182-0002-4ca0-a226-d39043b81948/length.bin\n",
            "\n",
            "data_level0.bin:  31% 21.0M/68.7M [00:00<00:00, 161MB/s]\u001b[A\n",
            "\n",
            "\n",
            "chroma.sqlite3:   5% 21.0M/389M [00:00<00:02, 176MB/s]\u001b[A\u001b[A\u001b[A\n",
            "\n",
            ".gitattributes: 100% 2.51k/2.51k [00:00<00:00, 11.6MB/s]\n",
            "Download complete. Moving file to web-search-index-public/.gitattributes\n",
            "Fetching 8 files:  12% 1/8 [00:00<00:03,  1.93it/s]\n",
            "\n",
            "README.md: 100% 29.0/29.0 [00:00<00:00, 132kB/s]\n",
            "Download complete. Moving file to web-search-index-public/README.md\n",
            "\n",
            "data_level0.bin:  76% 52.4M/68.7M [00:00<00:00, 205MB/s]\u001b[A\n",
            "\n",
            "\n",
            "data_level0.bin: 100% 68.7M/68.7M [00:00<00:00, 194MB/s]\n",
            "Download complete. Moving file to web-search-index-public/14dc4182-0002-4ca0-a226-d39043b81948/data_level0.bin\n",
            "Fetching 8 files:  25% 2/8 [00:00<00:01,  3.60it/s]\n",
            "\n",
            "\n",
            "chroma.sqlite3:  22% 83.9M/389M [00:00<00:01, 239MB/s]\u001b[A\u001b[A\u001b[A\n",
            "\n",
            "\n",
            "chroma.sqlite3:  32% 126M/389M [00:00<00:00, 268MB/s] \u001b[A\u001b[A\u001b[A\n",
            "\n",
            "\n",
            "chroma.sqlite3:  40% 157M/389M [00:00<00:00, 266MB/s]\u001b[A\u001b[A\u001b[A\n",
            "\n",
            "\n",
            "chroma.sqlite3:  48% 189M/389M [00:00<00:00, 266MB/s]\u001b[A\u001b[A\u001b[A\n",
            "\n",
            "\n",
            "chroma.sqlite3:  57% 220M/389M [00:04<00:06, 26.5MB/s]\u001b[A\u001b[A\u001b[A\n",
            "\n",
            "\n",
            "chroma.sqlite3:  65% 252M/389M [00:04<00:03, 36.6MB/s]\u001b[A\u001b[A\u001b[A\n",
            "\n",
            "\n",
            "chroma.sqlite3:  75% 294M/389M [00:04<00:01, 54.9MB/s]\u001b[A\u001b[A\u001b[A\n",
            "\n",
            "\n",
            "chroma.sqlite3:  84% 325M/389M [00:04<00:00, 71.0MB/s]\u001b[A\u001b[A\u001b[A\n",
            "\n",
            "\n",
            "chroma.sqlite3: 100% 389M/389M [00:04<00:00, 81.2MB/s]\n",
            "Download complete. Moving file to web-search-index-public/chroma.sqlite3\n",
            "Fetching 8 files: 100% 8/8 [00:05<00:00,  1.57it/s]\n",
            "/content/web-search-index-public\n"
          ]
        }
      ]
    },
    {
      "cell_type": "code",
      "source": [
        "!zip -r web-search-index-public.zip web-search-index-public"
      ],
      "metadata": {
        "colab": {
          "base_uri": "https://localhost:8080/"
        },
        "collapsed": true,
        "id": "Cgc1qE1kTAbc",
        "outputId": "6d766ffe-1588-4dc8-d6ab-5b91a21316ec"
      },
      "execution_count": 1,
      "outputs": [
        {
          "output_type": "stream",
          "name": "stdout",
          "text": [
            "  adding: web-search-index-public/ (stored 0%)\n",
            "  adding: web-search-index-public/.gitattributes (deflated 87%)\n",
            "  adding: web-search-index-public/14dc4182-0002-4ca0-a226-d39043b81948/ (stored 0%)\n",
            "  adding: web-search-index-public/14dc4182-0002-4ca0-a226-d39043b81948/index_metadata.pickle (deflated 55%)\n",
            "  adding: web-search-index-public/14dc4182-0002-4ca0-a226-d39043b81948/header.bin (deflated 53%)\n",
            "  adding: web-search-index-public/14dc4182-0002-4ca0-a226-d39043b81948/length.bin (deflated 85%)\n",
            "  adding: web-search-index-public/14dc4182-0002-4ca0-a226-d39043b81948/link_lists.bin (deflated 72%)\n",
            "  adding: web-search-index-public/14dc4182-0002-4ca0-a226-d39043b81948/data_level0.bin (deflated 12%)\n",
            "  adding: web-search-index-public/chroma.sqlite3 (deflated 90%)\n",
            "  adding: web-search-index-public/.cache/ (stored 0%)\n",
            "  adding: web-search-index-public/.cache/huggingface/ (stored 0%)\n",
            "  adding: web-search-index-public/.cache/huggingface/download/ (stored 0%)\n",
            "  adding: web-search-index-public/.cache/huggingface/download/.gitattributes.lock (stored 0%)\n",
            "  adding: web-search-index-public/.cache/huggingface/download/chroma.sqlite3.lock (stored 0%)\n",
            "  adding: web-search-index-public/.cache/huggingface/download/README.md.lock (stored 0%)\n",
            "  adding: web-search-index-public/.cache/huggingface/download/.gitattributes.metadata (deflated 26%)\n",
            "  adding: web-search-index-public/.cache/huggingface/download/14dc4182-0002-4ca0-a226-d39043b81948/ (stored 0%)\n",
            "  adding: web-search-index-public/.cache/huggingface/download/14dc4182-0002-4ca0-a226-d39043b81948/length.bin.metadata (deflated 30%)\n",
            "  adding: web-search-index-public/.cache/huggingface/download/14dc4182-0002-4ca0-a226-d39043b81948/length.bin.lock (stored 0%)\n",
            "  adding: web-search-index-public/.cache/huggingface/download/14dc4182-0002-4ca0-a226-d39043b81948/link_lists.bin.metadata (deflated 29%)\n",
            "  adding: web-search-index-public/.cache/huggingface/download/14dc4182-0002-4ca0-a226-d39043b81948/data_level0.bin.lock (stored 0%)\n",
            "  adding: web-search-index-public/.cache/huggingface/download/14dc4182-0002-4ca0-a226-d39043b81948/link_lists.bin.lock (stored 0%)\n",
            "  adding: web-search-index-public/.cache/huggingface/download/14dc4182-0002-4ca0-a226-d39043b81948/data_level0.bin.metadata (deflated 30%)\n",
            "  adding: web-search-index-public/.cache/huggingface/download/14dc4182-0002-4ca0-a226-d39043b81948/index_metadata.pickle.lock (stored 0%)\n",
            "  adding: web-search-index-public/.cache/huggingface/download/14dc4182-0002-4ca0-a226-d39043b81948/header.bin.lock (stored 0%)\n",
            "  adding: web-search-index-public/.cache/huggingface/download/14dc4182-0002-4ca0-a226-d39043b81948/index_metadata.pickle.metadata (deflated 30%)\n",
            "  adding: web-search-index-public/.cache/huggingface/download/14dc4182-0002-4ca0-a226-d39043b81948/header.bin.metadata (deflated 30%)\n",
            "  adding: web-search-index-public/.cache/huggingface/download/chroma.sqlite3.metadata (deflated 30%)\n",
            "  adding: web-search-index-public/.cache/huggingface/download/README.md.metadata (deflated 26%)\n",
            "  adding: web-search-index-public/.cache/huggingface/.gitignore (stored 0%)\n",
            "  adding: web-search-index-public/README.md (stored 0%)\n"
          ]
        }
      ]
    },
    {
      "cell_type": "code",
      "source": [
        "!huggingface-cli download --token hf_** --repo-type dataset --resume-download crag-mm-2025/image-search-index-public --local-dir image-search-index-public\n",
        "!zip -r image-search-index-public.zip image-search-index-public"
      ],
      "metadata": {
        "colab": {
          "base_uri": "https://localhost:8080/"
        },
        "collapsed": true,
        "id": "5ryDkelFTAeD",
        "outputId": "86856233-9fce-4134-db20-bcbba8271cff"
      },
      "execution_count": 2,
      "outputs": [
        {
          "output_type": "stream",
          "name": "stdout",
          "text": [
            "/usr/local/lib/python3.11/dist-packages/huggingface_hub/file_download.py:896: FutureWarning: `resume_download` is deprecated and will be removed in version 1.0.0. Downloads always resume when possible. If you want to force a new download, use `force_download=True`.\n",
            "  warnings.warn(\n",
            "Fetching 18 files:   0% 0/18 [00:00<?, ?it/s]Downloading '18571a51-4b0f-4c80-9b4d-f8a3f6789ca7/length.bin' to 'image-search-index-public/.cache/huggingface/download/18571a51-4b0f-4c80-9b4d-f8a3f6789ca7/k9LxY-gHgRP0VyiHwySuuheFRCQ=.003aad6a43292a671a716a61a43d6ab8290ee1e87d851e190cec6f138bfae845.incomplete'\n",
            "Downloading '452dead5-af12-4431-ae8e-cd40401df854/data_level0.bin' to 'image-search-index-public/.cache/huggingface/download/452dead5-af12-4431-ae8e-cd40401df854/fbme-ciW2w7sDkVUQUA_cJWEH_M=.6a1850dba45a424e79979a96a751153fe85e52074465cb217d46e4b7f2d27ff9.incomplete'\n",
            "Downloading '18571a51-4b0f-4c80-9b4d-f8a3f6789ca7/header.bin' to 'image-search-index-public/.cache/huggingface/download/18571a51-4b0f-4c80-9b4d-f8a3f6789ca7/djYhguG_252qzJKgqaU9C9n5VbM=.ea5b183b302f3997760f2f7bf3eefedd5887a4c89c2743e650f8ac0559610349.incomplete'\n",
            "Downloading '452dead5-af12-4431-ae8e-cd40401df854/header.bin' to 'image-search-index-public/.cache/huggingface/download/452dead5-af12-4431-ae8e-cd40401df854/djYhguG_252qzJKgqaU9C9n5VbM=.144fde60b1e4911b1ee0baf9cbd49792099b55475fe278854718f48227ddbfea.incomplete'\n",
            "Downloading '18571a51-4b0f-4c80-9b4d-f8a3f6789ca7/link_lists.bin' to 'image-search-index-public/.cache/huggingface/download/18571a51-4b0f-4c80-9b4d-f8a3f6789ca7/dM4mKCgRnUxoeNeGTyznJVYpcB0=.f18485283671cbe936328b10a1b298cbb690d5a4739bc8214afa3fa4ef841277.incomplete'\n",
            "\n",
            "header.bin: 100% 100/100 [00:00<00:00, 196kB/s]\n",
            "\n",
            "Download complete. Moving file to image-search-index-public/452dead5-af12-4431-ae8e-cd40401df854/header.bin\n",
            "length.bin:   0% 0.00/40.0k [00:00<?, ?B/s]\u001b[A\n",
            "\n",
            "length.bin: 100% 40.0k/40.0k [00:00<00:00, 49.2MB/s]\n",
            "Download complete. Moving file to image-search-index-public/18571a51-4b0f-4c80-9b4d-f8a3f6789ca7/length.bin\n",
            "\n",
            "link_lists.bin:   0% 0.00/89.2k [00:00<?, ?B/s]\u001b[A\n",
            "\n",
            "\n",
            "header.bin: 100% 100/100 [00:00<00:00, 688kB/s]\n",
            "link_lists.bin: 100% 89.2k/89.2k [00:00<00:00, 20.2MB/s]Download complete. Moving file to image-search-index-public/18571a51-4b0f-4c80-9b4d-f8a3f6789ca7/header.bin\n",
            "\n",
            "Download complete. Moving file to image-search-index-public/18571a51-4b0f-4c80-9b4d-f8a3f6789ca7/link_lists.bin\n",
            "Downloading '18571a51-4b0f-4c80-9b4d-f8a3f6789ca7/data_level0.bin' to 'image-search-index-public/.cache/huggingface/download/18571a51-4b0f-4c80-9b4d-f8a3f6789ca7/fbme-ciW2w7sDkVUQUA_cJWEH_M=.bd9bd8dd88bccf737182b18f74277c44775f9f69747fd02dcf44053485b5351c.incomplete'\n",
            "\n",
            "data_level0.bin:   0% 0.00/21.9M [00:00<?, ?B/s]\u001b[ADownloading '.gitattributes' to 'image-search-index-public/.cache/huggingface/download/wPaCkH-WbT7GsmxMKKrNZTV4nSM=.5bcf35802afab3d81672915a9fbaea4d0fad265a.incomplete'\n",
            "Downloading '18571a51-4b0f-4c80-9b4d-f8a3f6789ca7/index_metadata.pickle' to 'image-search-index-public/.cache/huggingface/download/18571a51-4b0f-4c80-9b4d-f8a3f6789ca7/XE2ITtlIf8G-DUFOk-gp6w6wg_k=.0f78f36d4d4785692a0863ed8e3e437caac1165b49b0e387b2e50f87a64cc934.incomplete'\n",
            "\n",
            "\n",
            "\n",
            "index_metadata.pickle: 100% 257k/257k [00:00<00:00, 22.4MB/s]\n",
            "Download complete. Moving file to image-search-index-public/18571a51-4b0f-4c80-9b4d-f8a3f6789ca7/index_metadata.pickle\n",
            "\n",
            "\n",
            "data_level0.bin: 100% 21.9M/21.9M [00:00<00:00, 132MB/s]\n",
            "Download complete. Moving file to image-search-index-public/452dead5-af12-4431-ae8e-cd40401df854/data_level0.bin\n",
            "\n",
            "data_level0.bin: 100% 21.9M/21.9M [00:00<00:00, 151MB/s]\n",
            "Download complete. Moving file to image-search-index-public/18571a51-4b0f-4c80-9b4d-f8a3f6789ca7/data_level0.bin\n",
            "Downloading 'README.md' to 'image-search-index-public/.cache/huggingface/download/Xn7B-BWUGOee2Y6hCZtEhtFu4BE=.0e6806538f5ef42613750fc217c5ce13aa6b6d02.incomplete'\n",
            "Downloading '452dead5-af12-4431-ae8e-cd40401df854/index_metadata.pickle' to 'image-search-index-public/.cache/huggingface/download/452dead5-af12-4431-ae8e-cd40401df854/XE2ITtlIf8G-DUFOk-gp6w6wg_k=.0fbf2b2ee0298d6cd02fd953dc9e4ea9635709ed7e97949047135693f38fa0e9.incomplete'\n",
            "\n",
            "index_metadata.pickle:   0% 0.00/257k [00:00<?, ?B/s]\u001b[ADownloading '452dead5-af12-4431-ae8e-cd40401df854/link_lists.bin' to 'image-search-index-public/.cache/huggingface/download/452dead5-af12-4431-ae8e-cd40401df854/dM4mKCgRnUxoeNeGTyznJVYpcB0=.1ec7926cd0e346e172ab049fdc00ee120b0918c579e64963564b63cdf8afb8b1.incomplete'\n",
            "index_metadata.pickle: 100% 257k/257k [00:00<00:00, 16.8MB/s]\n",
            "Download complete. Moving file to image-search-index-public/452dead5-af12-4431-ae8e-cd40401df854/index_metadata.pickle\n",
            "Downloading '452dead5-af12-4431-ae8e-cd40401df854/length.bin' to 'image-search-index-public/.cache/huggingface/download/452dead5-af12-4431-ae8e-cd40401df854/k9LxY-gHgRP0VyiHwySuuheFRCQ=.4993ca6f948b2de218b5a9906486428e731a52b1f21c86e2c4e636a72bd19ca6.incomplete'\n",
            "\n",
            "length.bin:   0% 0.00/40.0k [00:00<?, ?B/s]\u001b[A\n",
            "\n",
            "length.bin: 100% 40.0k/40.0k [00:00<00:00, 54.2MB/s]\n",
            "Download complete. Moving file to image-search-index-public/452dead5-af12-4431-ae8e-cd40401df854/length.bin\n",
            "link_lists.bin: 100% 89.2k/89.2k [00:00<00:00, 30.8MB/s]\n",
            "Download complete. Moving file to image-search-index-public/452dead5-af12-4431-ae8e-cd40401df854/link_lists.bin\n",
            "\n",
            ".gitattributes: 100% 2.51k/2.51k [00:00<00:00, 26.5MB/s]\n",
            "Download complete. Moving file to image-search-index-public/.gitattributes\n",
            "Fetching 18 files:   6% 1/18 [00:00<00:09,  1.72it/s]Downloading 'chroma.sqlite3' to 'image-search-index-public/.cache/huggingface/download/ti1FOsPlFwSUXEOa-xgVYp3pt6Y=.76ad160f1d89914bdba2b858b27c848822cb2f3b36b6f1de538df45fc4634445.incomplete'\n",
            "\n",
            "chroma.sqlite3:   0% 0.00/108M [00:00<?, ?B/s]\u001b[ADownloading 'de164e6c-38fb-4a38-bbfc-7b6a78f4babd/data_level0.bin' to 'image-search-index-public/.cache/huggingface/download/de164e6c-38fb-4a38-bbfc-7b6a78f4babd/fbme-ciW2w7sDkVUQUA_cJWEH_M=.a1e796b6af8bbdb160c9c8209c1e2bbd14cdf68e43ca4e83d9d96ac2751d2eaf.incomplete'\n",
            "\n",
            "\n",
            "data_level0.bin:   0% 0.00/21.9M [00:00<?, ?B/s]\u001b[A\u001b[ADownloading 'de164e6c-38fb-4a38-bbfc-7b6a78f4babd/header.bin' to 'image-search-index-public/.cache/huggingface/download/de164e6c-38fb-4a38-bbfc-7b6a78f4babd/djYhguG_252qzJKgqaU9C9n5VbM=.0771409713a6110b0fea3cddc9e3fc5a8936bab023867d6f0e5680de58537460.incomplete'\n",
            "\n",
            "\n",
            "\n",
            "header.bin: 100% 100/100 [00:00<00:00, 761kB/s]\n",
            "Download complete. Moving file to image-search-index-public/de164e6c-38fb-4a38-bbfc-7b6a78f4babd/header.bin\n",
            "Downloading 'de164e6c-38fb-4a38-bbfc-7b6a78f4babd/index_metadata.pickle' to 'image-search-index-public/.cache/huggingface/download/de164e6c-38fb-4a38-bbfc-7b6a78f4babd/XE2ITtlIf8G-DUFOk-gp6w6wg_k=.0fbf2b2ee0298d6cd02fd953dc9e4ea9635709ed7e97949047135693f38fa0e9.incomplete'\n",
            "\n",
            "\n",
            "\n",
            "index_metadata.pickle: 100% 257k/257k [00:00<00:00, 58.4MB/s]\n",
            "Download complete. Moving file to image-search-index-public/de164e6c-38fb-4a38-bbfc-7b6a78f4babd/index_metadata.pickle\n",
            "Downloading 'de164e6c-38fb-4a38-bbfc-7b6a78f4babd/link_lists.bin' to 'image-search-index-public/.cache/huggingface/download/de164e6c-38fb-4a38-bbfc-7b6a78f4babd/dM4mKCgRnUxoeNeGTyznJVYpcB0=.ddf243d144db1a3166cb676f5496bfc6ccba47e92c1c5a7d70dec364a64aa53b.incomplete'\n",
            "\n",
            "\n",
            "\n",
            "link_lists.bin: 100% 89.2k/89.2k [00:00<00:00, 97.8MB/s]\n",
            "Download complete. Moving file to image-search-index-public/de164e6c-38fb-4a38-bbfc-7b6a78f4babd/link_lists.bin\n",
            "\n",
            "\n",
            "data_level0.bin:  96% 21.0M/21.9M [00:00<00:00, 137MB/s]\u001b[A\u001b[A\n",
            "data_level0.bin: 100% 21.9M/21.9M [00:00<00:00, 126MB/s]\n",
            "Download complete. Moving file to image-search-index-public/de164e6c-38fb-4a38-bbfc-7b6a78f4babd/data_level0.bin\n",
            "\n",
            "\n",
            "README.md: 100% 29.0/29.0 [00:00<00:00, 176kB/s]\n",
            "Download complete. Moving file to image-search-index-public/README.md\n",
            "Fetching 18 files:  67% 12/18 [00:00<00:00, 15.66it/s]\n",
            "chroma.sqlite3:  48% 52.4M/108M [00:00<00:00, 188MB/s]\u001b[ADownloading 'de164e6c-38fb-4a38-bbfc-7b6a78f4babd/length.bin' to 'image-search-index-public/.cache/huggingface/download/de164e6c-38fb-4a38-bbfc-7b6a78f4babd/k9LxY-gHgRP0VyiHwySuuheFRCQ=.84bb925e58a5a8dbb896a7e89adf3bca3580351569c54c93ac035ff9d046cf30.incomplete'\n",
            "\n",
            "\n",
            "length.bin: 100% 40.0k/40.0k [00:00<00:00, 4.54MB/s]\n",
            "Download complete. Moving file to image-search-index-public/de164e6c-38fb-4a38-bbfc-7b6a78f4babd/length.bin\n",
            "\n",
            "chroma.sqlite3: 100% 108M/108M [00:00<00:00, 207MB/s] \n",
            "Download complete. Moving file to image-search-index-public/chroma.sqlite3\n",
            "Fetching 18 files: 100% 18/18 [00:01<00:00, 15.09it/s]\n",
            "/content/image-search-index-public\n",
            "  adding: image-search-index-public/ (stored 0%)\n",
            "  adding: image-search-index-public/de164e6c-38fb-4a38-bbfc-7b6a78f4babd/ (stored 0%)\n",
            "  adding: image-search-index-public/de164e6c-38fb-4a38-bbfc-7b6a78f4babd/index_metadata.pickle (deflated 53%)\n",
            "  adding: image-search-index-public/de164e6c-38fb-4a38-bbfc-7b6a78f4babd/header.bin (deflated 55%)\n",
            "  adding: image-search-index-public/de164e6c-38fb-4a38-bbfc-7b6a78f4babd/length.bin (deflated 86%)\n",
            "  adding: image-search-index-public/de164e6c-38fb-4a38-bbfc-7b6a78f4babd/link_lists.bin (deflated 79%)\n",
            "  adding: image-search-index-public/de164e6c-38fb-4a38-bbfc-7b6a78f4babd/data_level0.bin (deflated 10%)\n",
            "  adding: image-search-index-public/.gitattributes (deflated 87%)\n",
            "  adding: image-search-index-public/452dead5-af12-4431-ae8e-cd40401df854/ (stored 0%)\n",
            "  adding: image-search-index-public/452dead5-af12-4431-ae8e-cd40401df854/index_metadata.pickle (deflated 53%)\n",
            "  adding: image-search-index-public/452dead5-af12-4431-ae8e-cd40401df854/header.bin (deflated 55%)\n",
            "  adding: image-search-index-public/452dead5-af12-4431-ae8e-cd40401df854/length.bin (deflated 86%)\n",
            "  adding: image-search-index-public/452dead5-af12-4431-ae8e-cd40401df854/link_lists.bin (deflated 80%)\n",
            "  adding: image-search-index-public/452dead5-af12-4431-ae8e-cd40401df854/data_level0.bin (deflated 10%)\n",
            "  adding: image-search-index-public/chroma.sqlite3 (deflated 87%)\n",
            "  adding: image-search-index-public/.cache/ (stored 0%)\n",
            "  adding: image-search-index-public/.cache/huggingface/ (stored 0%)\n",
            "  adding: image-search-index-public/.cache/huggingface/download/ (stored 0%)\n",
            "  adding: image-search-index-public/.cache/huggingface/download/de164e6c-38fb-4a38-bbfc-7b6a78f4babd/ (stored 0%)\n",
            "  adding: image-search-index-public/.cache/huggingface/download/de164e6c-38fb-4a38-bbfc-7b6a78f4babd/length.bin.metadata (deflated 29%)\n",
            "  adding: image-search-index-public/.cache/huggingface/download/de164e6c-38fb-4a38-bbfc-7b6a78f4babd/length.bin.lock (stored 0%)\n",
            "  adding: image-search-index-public/.cache/huggingface/download/de164e6c-38fb-4a38-bbfc-7b6a78f4babd/link_lists.bin.metadata (deflated 29%)\n",
            "  adding: image-search-index-public/.cache/huggingface/download/de164e6c-38fb-4a38-bbfc-7b6a78f4babd/data_level0.bin.lock (stored 0%)\n",
            "  adding: image-search-index-public/.cache/huggingface/download/de164e6c-38fb-4a38-bbfc-7b6a78f4babd/link_lists.bin.lock (stored 0%)\n",
            "  adding: image-search-index-public/.cache/huggingface/download/de164e6c-38fb-4a38-bbfc-7b6a78f4babd/data_level0.bin.metadata (deflated 29%)\n",
            "  adding: image-search-index-public/.cache/huggingface/download/de164e6c-38fb-4a38-bbfc-7b6a78f4babd/index_metadata.pickle.lock (stored 0%)\n",
            "  adding: image-search-index-public/.cache/huggingface/download/de164e6c-38fb-4a38-bbfc-7b6a78f4babd/header.bin.lock (stored 0%)\n",
            "  adding: image-search-index-public/.cache/huggingface/download/de164e6c-38fb-4a38-bbfc-7b6a78f4babd/index_metadata.pickle.metadata (deflated 30%)\n",
            "  adding: image-search-index-public/.cache/huggingface/download/de164e6c-38fb-4a38-bbfc-7b6a78f4babd/header.bin.metadata (deflated 28%)\n",
            "  adding: image-search-index-public/.cache/huggingface/download/.gitattributes.lock (stored 0%)\n",
            "  adding: image-search-index-public/.cache/huggingface/download/chroma.sqlite3.lock (stored 0%)\n",
            "  adding: image-search-index-public/.cache/huggingface/download/README.md.lock (stored 0%)\n",
            "  adding: image-search-index-public/.cache/huggingface/download/.gitattributes.metadata (deflated 24%)\n",
            "  adding: image-search-index-public/.cache/huggingface/download/452dead5-af12-4431-ae8e-cd40401df854/ (stored 0%)\n",
            "  adding: image-search-index-public/.cache/huggingface/download/452dead5-af12-4431-ae8e-cd40401df854/length.bin.metadata (deflated 28%)\n",
            "  adding: image-search-index-public/.cache/huggingface/download/452dead5-af12-4431-ae8e-cd40401df854/length.bin.lock (stored 0%)\n",
            "  adding: image-search-index-public/.cache/huggingface/download/452dead5-af12-4431-ae8e-cd40401df854/link_lists.bin.metadata (deflated 29%)\n",
            "  adding: image-search-index-public/.cache/huggingface/download/452dead5-af12-4431-ae8e-cd40401df854/data_level0.bin.lock (stored 0%)\n",
            "  adding: image-search-index-public/.cache/huggingface/download/452dead5-af12-4431-ae8e-cd40401df854/link_lists.bin.lock (stored 0%)\n",
            "  adding: image-search-index-public/.cache/huggingface/download/452dead5-af12-4431-ae8e-cd40401df854/data_level0.bin.metadata (deflated 29%)\n",
            "  adding: image-search-index-public/.cache/huggingface/download/452dead5-af12-4431-ae8e-cd40401df854/index_metadata.pickle.lock (stored 0%)\n",
            "  adding: image-search-index-public/.cache/huggingface/download/452dead5-af12-4431-ae8e-cd40401df854/header.bin.lock (stored 0%)\n",
            "  adding: image-search-index-public/.cache/huggingface/download/452dead5-af12-4431-ae8e-cd40401df854/index_metadata.pickle.metadata (deflated 30%)\n",
            "  adding: image-search-index-public/.cache/huggingface/download/452dead5-af12-4431-ae8e-cd40401df854/header.bin.metadata (deflated 30%)\n",
            "  adding: image-search-index-public/.cache/huggingface/download/chroma.sqlite3.metadata (deflated 29%)\n",
            "  adding: image-search-index-public/.cache/huggingface/download/README.md.metadata (deflated 24%)\n",
            "  adding: image-search-index-public/.cache/huggingface/download/18571a51-4b0f-4c80-9b4d-f8a3f6789ca7/ (stored 0%)\n",
            "  adding: image-search-index-public/.cache/huggingface/download/18571a51-4b0f-4c80-9b4d-f8a3f6789ca7/length.bin.metadata (deflated 29%)\n",
            "  adding: image-search-index-public/.cache/huggingface/download/18571a51-4b0f-4c80-9b4d-f8a3f6789ca7/length.bin.lock (stored 0%)\n",
            "  adding: image-search-index-public/.cache/huggingface/download/18571a51-4b0f-4c80-9b4d-f8a3f6789ca7/link_lists.bin.metadata (deflated 30%)\n",
            "  adding: image-search-index-public/.cache/huggingface/download/18571a51-4b0f-4c80-9b4d-f8a3f6789ca7/data_level0.bin.lock (stored 0%)\n",
            "  adding: image-search-index-public/.cache/huggingface/download/18571a51-4b0f-4c80-9b4d-f8a3f6789ca7/link_lists.bin.lock (stored 0%)\n",
            "  adding: image-search-index-public/.cache/huggingface/download/18571a51-4b0f-4c80-9b4d-f8a3f6789ca7/data_level0.bin.metadata (deflated 30%)\n",
            "  adding: image-search-index-public/.cache/huggingface/download/18571a51-4b0f-4c80-9b4d-f8a3f6789ca7/index_metadata.pickle.lock (stored 0%)\n",
            "  adding: image-search-index-public/.cache/huggingface/download/18571a51-4b0f-4c80-9b4d-f8a3f6789ca7/header.bin.lock (stored 0%)\n",
            "  adding: image-search-index-public/.cache/huggingface/download/18571a51-4b0f-4c80-9b4d-f8a3f6789ca7/index_metadata.pickle.metadata (deflated 29%)\n",
            "  adding: image-search-index-public/.cache/huggingface/download/18571a51-4b0f-4c80-9b4d-f8a3f6789ca7/header.bin.metadata (deflated 29%)\n",
            "  adding: image-search-index-public/.cache/huggingface/.gitignore (stored 0%)\n",
            "  adding: image-search-index-public/README.md (stored 0%)\n",
            "  adding: image-search-index-public/18571a51-4b0f-4c80-9b4d-f8a3f6789ca7/ (stored 0%)\n",
            "  adding: image-search-index-public/18571a51-4b0f-4c80-9b4d-f8a3f6789ca7/index_metadata.pickle (deflated 53%)\n",
            "  adding: image-search-index-public/18571a51-4b0f-4c80-9b4d-f8a3f6789ca7/header.bin (deflated 56%)\n",
            "  adding: image-search-index-public/18571a51-4b0f-4c80-9b4d-f8a3f6789ca7/length.bin (deflated 86%)\n",
            "  adding: image-search-index-public/18571a51-4b0f-4c80-9b4d-f8a3f6789ca7/link_lists.bin (deflated 79%)\n",
            "  adding: image-search-index-public/18571a51-4b0f-4c80-9b4d-f8a3f6789ca7/data_level0.bin (deflated 10%)\n"
          ]
        }
      ]
    },
    {
      "cell_type": "code",
      "source": [
        "!huggingface-cli download --token hf_** --repo-type dataset --resume-download crag-mm-2025/crag-mm-single-turn-public --local-dir crag-mm-single-turn-public\n",
        "!zip -r crag-mm-single-turn-public.zip crag-mm-single-turn-public"
      ],
      "metadata": {
        "colab": {
          "base_uri": "https://localhost:8080/"
        },
        "collapsed": true,
        "id": "5gsMWplsTAgZ",
        "outputId": "f6a4790a-2414-4566-ddda-51eacf8faf6b"
      },
      "execution_count": 7,
      "outputs": [
        {
          "output_type": "stream",
          "name": "stdout",
          "text": [
            "/usr/local/lib/python3.11/dist-packages/huggingface_hub/file_download.py:896: FutureWarning: `resume_download` is deprecated and will be removed in version 1.0.0. Downloads always resume when possible. If you want to force a new download, use `force_download=True`.\n",
            "  warnings.warn(\n",
            "Fetching 3 files:   0% 0/3 [00:00<?, ?it/s]Downloading 'data/sample-00000-of-00001.parquet' to 'crag-mm-single-turn-public/.cache/huggingface/download/data/yHQzVlRutg2_NlxjG48qCXvKFOc=.1b1ac28f2be448cae22d9573c52a4589d4a3cf1da42588063844de7fd5d8892d.incomplete'\n",
            "Downloading 'README.md' to 'crag-mm-single-turn-public/.cache/huggingface/download/Xn7B-BWUGOee2Y6hCZtEhtFu4BE=.14e89be0858c704cbc72225f695b3411cc4cb89d.incomplete'\n",
            "\n",
            "sample-00000-of-00001.parquet:   0% 0.00/24.8M [00:00<?, ?B/s]\u001b[A\n",
            "sample-00000-of-00001.parquet: 100% 24.8M/24.8M [00:00<00:00, 123MB/s]\n",
            "Download complete. Moving file to crag-mm-single-turn-public/data/sample-00000-of-00001.parquet\n",
            "\n",
            "README.md: 100% 4.84k/4.84k [00:00<00:00, 31.2MB/s]\n",
            "Download complete. Moving file to crag-mm-single-turn-public/README.md\n",
            "Downloading '.gitattributes' to 'crag-mm-single-turn-public/.cache/huggingface/download/wPaCkH-WbT7GsmxMKKrNZTV4nSM=.1ef325f1b111266a6b26e0196871bd78baa8c2f3.incomplete'\n",
            "\n",
            ".gitattributes: 100% 2.46k/2.46k [00:00<00:00, 15.8MB/s]\n",
            "Download complete. Moving file to crag-mm-single-turn-public/.gitattributes\n",
            "Fetching 3 files: 100% 3/3 [00:00<00:00,  3.19it/s]\n",
            "/content/crag-mm-single-turn-public\n",
            "  adding: crag-mm-single-turn-public/ (stored 0%)\n",
            "  adding: crag-mm-single-turn-public/.gitattributes (deflated 87%)\n",
            "  adding: crag-mm-single-turn-public/data/ (stored 0%)\n",
            "  adding: crag-mm-single-turn-public/data/sample-00000-of-00001.parquet (deflated 2%)\n",
            "  adding: crag-mm-single-turn-public/.cache/ (stored 0%)\n",
            "  adding: crag-mm-single-turn-public/.cache/huggingface/ (stored 0%)\n",
            "  adding: crag-mm-single-turn-public/.cache/huggingface/download/ (stored 0%)\n",
            "  adding: crag-mm-single-turn-public/.cache/huggingface/download/.gitattributes.lock (stored 0%)\n",
            "  adding: crag-mm-single-turn-public/.cache/huggingface/download/data/ (stored 0%)\n",
            "  adding: crag-mm-single-turn-public/.cache/huggingface/download/data/sample-00000-of-00001.parquet.metadata (deflated 30%)\n",
            "  adding: crag-mm-single-turn-public/.cache/huggingface/download/data/sample-00000-of-00001.parquet.lock (stored 0%)\n",
            "  adding: crag-mm-single-turn-public/.cache/huggingface/download/README.md.lock (stored 0%)\n",
            "  adding: crag-mm-single-turn-public/.cache/huggingface/download/.gitattributes.metadata (deflated 26%)\n",
            "  adding: crag-mm-single-turn-public/.cache/huggingface/download/README.md.metadata (deflated 26%)\n",
            "  adding: crag-mm-single-turn-public/.cache/huggingface/.gitignore (stored 0%)\n",
            "  adding: crag-mm-single-turn-public/README.md (deflated 58%)\n"
          ]
        }
      ]
    },
    {
      "cell_type": "code",
      "source": [
        "!huggingface-cli download --token hf_** --repo-type dataset --resume-download crag-mm-2025/crag-mm-multi-turn-public --local-dir crag-mm-multi-turn-public\n",
        "!zip -r crag-mm-multi-turn-public.zip crag-mm-multi-turn-public"
      ],
      "metadata": {
        "collapsed": true,
        "colab": {
          "base_uri": "https://localhost:8080/"
        },
        "id": "lPrUMf3tXQg6",
        "outputId": "16b8cea8-83e4-4d8f-f48b-330bebde177d"
      },
      "execution_count": 4,
      "outputs": [
        {
          "output_type": "stream",
          "name": "stdout",
          "text": [
            "/usr/local/lib/python3.11/dist-packages/huggingface_hub/file_download.py:896: FutureWarning: `resume_download` is deprecated and will be removed in version 1.0.0. Downloads always resume when possible. If you want to force a new download, use `force_download=True`.\n",
            "  warnings.warn(\n",
            "\rFetching 3 files:   0% 0/3 [00:00<?, ?it/s]Downloading 'data/sample-00000-of-00001.parquet' to 'crag-mm-multi-turn-public/.cache/huggingface/download/data/yHQzVlRutg2_NlxjG48qCXvKFOc=.98263e2165f80e2d5e4a4ca036675a77b53ff47ab1e6857af873f03cb528d9fa.incomplete'\n",
            "Downloading '.gitattributes' to 'crag-mm-multi-turn-public/.cache/huggingface/download/wPaCkH-WbT7GsmxMKKrNZTV4nSM=.1ef325f1b111266a6b26e0196871bd78baa8c2f3.incomplete'\n",
            "Downloading 'README.md' to 'crag-mm-multi-turn-public/.cache/huggingface/download/Xn7B-BWUGOee2Y6hCZtEhtFu4BE=.8448f2de92c53523aef7c86c6927178d285919f3.incomplete'\n",
            "\n",
            "sample-00000-of-00001.parquet:   0% 0.00/5.29M [00:00<?, ?B/s]\u001b[A\n",
            "\n",
            ".gitattributes: 100% 2.46k/2.46k [00:00<00:00, 21.2MB/s]\n",
            "Download complete. Moving file to crag-mm-multi-turn-public/.gitattributes\n",
            "Fetching 3 files:  33% 1/3 [00:00<00:01,  1.56it/s]\n",
            "\n",
            "README.md: 100% 4.63k/4.63k [00:00<00:00, 35.3MB/s]\n",
            "Download complete. Moving file to crag-mm-multi-turn-public/README.md\n",
            "\n",
            "sample-00000-of-00001.parquet: 100% 5.29M/5.29M [00:00<00:00, 7.90MB/s]\n",
            "Download complete. Moving file to crag-mm-multi-turn-public/data/sample-00000-of-00001.parquet\n",
            "Fetching 3 files: 100% 3/3 [00:01<00:00,  2.58it/s]\n",
            "/content/crag-mm-multi-turn-public\n",
            "  adding: crag-mm-multi-turn-public/ (stored 0%)\n",
            "  adding: crag-mm-multi-turn-public/.gitattributes (deflated 87%)\n",
            "  adding: crag-mm-multi-turn-public/data/ (stored 0%)\n",
            "  adding: crag-mm-multi-turn-public/data/sample-00000-of-00001.parquet (deflated 1%)\n",
            "  adding: crag-mm-multi-turn-public/.cache/ (stored 0%)\n",
            "  adding: crag-mm-multi-turn-public/.cache/huggingface/ (stored 0%)\n",
            "  adding: crag-mm-multi-turn-public/.cache/huggingface/download/ (stored 0%)\n",
            "  adding: crag-mm-multi-turn-public/.cache/huggingface/download/.gitattributes.lock (stored 0%)\n",
            "  adding: crag-mm-multi-turn-public/.cache/huggingface/download/data/ (stored 0%)\n",
            "  adding: crag-mm-multi-turn-public/.cache/huggingface/download/data/sample-00000-of-00001.parquet.metadata (deflated 31%)\n",
            "  adding: crag-mm-multi-turn-public/.cache/huggingface/download/data/sample-00000-of-00001.parquet.lock (stored 0%)\n",
            "  adding: crag-mm-multi-turn-public/.cache/huggingface/download/README.md.lock (stored 0%)\n",
            "  adding: crag-mm-multi-turn-public/.cache/huggingface/download/.gitattributes.metadata (deflated 27%)\n",
            "  adding: crag-mm-multi-turn-public/.cache/huggingface/download/README.md.metadata (deflated 26%)\n",
            "  adding: crag-mm-multi-turn-public/.cache/huggingface/.gitignore (stored 0%)\n",
            "  adding: crag-mm-multi-turn-public/README.md (deflated 58%)\n"
          ]
        }
      ]
    },
    {
      "cell_type": "code",
      "source": [
        "# !rm -rf crag-mm-multi-turn-public\n",
        "# !rm -rf crag-mm-single-turn-public\n",
        "# !rm -rf image-search-index-public\n",
        "# !rm -rf web-search-index-public\n",
        "# !rm -rf web-search-index-public*"
      ],
      "metadata": {
        "id": "o_1WqBu9XQcM"
      },
      "execution_count": 5,
      "outputs": []
    },
    {
      "cell_type": "code",
      "source": [
        "# !huggingface-cli download --token hf_** --repo-type model --resume-download sentence-transformers/all-MiniLM-L6-v2 --local-dir all-MiniLM-L6-v2\n",
        "# !zip -r all-MiniLM-L6-v2.zip all-MiniLM-L6-v2\n",
        "\n",
        "# !huggingface-cli download --token hf_** --repo-type model --resume-download openai/clip-vit-base-patch16 --local-dir clip-vit-base-patch16\n",
        "# !zip -r clip-vit-base-patch16.zip clip-vit-base-patch16\n",
        "\n",
        "\n",
        "\n",
        "\n"
      ],
      "metadata": {
        "collapsed": true,
        "colab": {
          "base_uri": "https://localhost:8080/"
        },
        "id": "O3HtyU61ZBRH",
        "outputId": "9fe13e1c-fe64-44bd-d70a-984c12ae7a6f"
      },
      "execution_count": 6,
      "outputs": [
        {
          "output_type": "stream",
          "name": "stdout",
          "text": [
            "/usr/local/lib/python3.11/dist-packages/huggingface_hub/file_download.py:896: FutureWarning: `resume_download` is deprecated and will be removed in version 1.0.0. Downloads always resume when possible. If you want to force a new download, use `force_download=True`.\n",
            "  warnings.warn(\n",
            "\rFetching 11 files:   0% 0/11 [00:00<?, ?it/s]\rFetching 11 files: 100% 11/11 [00:00<00:00, 4362.46it/s]\n",
            "/content/clip-vit-base-patch16\n",
            "updating: clip-vit-base-patch16/ (stored 0%)\n",
            "updating: clip-vit-base-patch16/tokenizer_config.json (deflated 70%)\n",
            "updating: clip-vit-base-patch16/.gitattributes (deflated 86%)\n",
            "updating: clip-vit-base-patch16/pytorch_model.bin (deflated 35%)\n",
            "updating: clip-vit-base-patch16/special_tokens_map.json (deflated 71%)\n",
            "updating: clip-vit-base-patch16/flax_model.msgpack (deflated 35%)\n",
            "updating: clip-vit-base-patch16/config.json (deflated 78%)\n",
            "updating: clip-vit-base-patch16/preprocessor_config.json (deflated 42%)\n",
            "updating: clip-vit-base-patch16/.cache/ (stored 0%)\n",
            "updating: clip-vit-base-patch16/.cache/huggingface/ (stored 0%)\n",
            "updating: clip-vit-base-patch16/.cache/huggingface/download/ (stored 0%)\n",
            "updating: clip-vit-base-patch16/.cache/huggingface/download/preprocessor_config.json.lock (stored 0%)\n",
            "updating: clip-vit-base-patch16/.cache/huggingface/download/config.json.metadata (deflated 26%)\n",
            "updating: clip-vit-base-patch16/.cache/huggingface/download/special_tokens_map.json.metadata (deflated 26%)\n",
            "updating: clip-vit-base-patch16/.cache/huggingface/download/.gitattributes.lock (stored 0%)\n",
            "updating: clip-vit-base-patch16/.cache/huggingface/download/config.json.lock (stored 0%)\n",
            "updating: clip-vit-base-patch16/.cache/huggingface/download/README.md.lock (stored 0%)\n",
            "updating: clip-vit-base-patch16/.cache/huggingface/download/.gitattributes.metadata (deflated 25%)\n",
            "updating: clip-vit-base-patch16/.cache/huggingface/download/merges.txt.metadata (deflated 27%)\n",
            "updating: clip-vit-base-patch16/.cache/huggingface/download/flax_model.msgpack.metadata (deflated 29%)\n",
            "updating: clip-vit-base-patch16/.cache/huggingface/download/pytorch_model.bin.lock (stored 0%)\n",
            "updating: clip-vit-base-patch16/.cache/huggingface/download/special_tokens_map.json.lock (stored 0%)\n",
            "updating: clip-vit-base-patch16/.cache/huggingface/download/tokenizer_config.json.metadata (deflated 26%)\n",
            "updating: clip-vit-base-patch16/.cache/huggingface/download/vocab.json.metadata (deflated 25%)\n",
            "updating: clip-vit-base-patch16/.cache/huggingface/download/README.md.metadata (deflated 25%)\n",
            "updating: clip-vit-base-patch16/.cache/huggingface/download/preprocessor_config.json.metadata (deflated 26%)\n",
            "updating: clip-vit-base-patch16/.cache/huggingface/download/tokenizer_config.json.lock (stored 0%)\n",
            "updating: clip-vit-base-patch16/.cache/huggingface/download/merges.txt.lock (stored 0%)\n",
            "updating: clip-vit-base-patch16/.cache/huggingface/download/pytorch_model.bin.metadata (deflated 28%)\n",
            "updating: clip-vit-base-patch16/.cache/huggingface/download/vocab.json.lock (stored 0%)\n",
            "updating: clip-vit-base-patch16/.cache/huggingface/download/flax_model.msgpack.lock (stored 0%)\n",
            "updating: clip-vit-base-patch16/.cache/huggingface/download/tokenizer.json.metadata (deflated 25%)\n",
            "updating: clip-vit-base-patch16/.cache/huggingface/download/tokenizer.json.lock (stored 0%)\n",
            "updating: clip-vit-base-patch16/.cache/huggingface/.gitignore (stored 0%)\n",
            "updating: clip-vit-base-patch16/README.md (deflated 55%)\n",
            "updating: clip-vit-base-patch16/tokenizer.json (deflated 74%)\n",
            "updating: clip-vit-base-patch16/merges.txt (deflated 60%)\n",
            "updating: clip-vit-base-patch16/vocab.json (deflated 65%)\n"
          ]
        }
      ]
    },
    {
      "cell_type": "code",
      "source": [
        "!rm -rf clip-vit*\n",
        "!rm -rf all-MiniLM*"
      ],
      "metadata": {
        "id": "v7qobD-qXQRx"
      },
      "execution_count": 7,
      "outputs": []
    }
  ],
  "metadata": {
    "accelerator": "GPU",
    "colab": {
      "name": "colab.ipynb",
      "provenance": []
    },
    "kernelspec": {
      "display_name": "Python 3",
      "name": "python3"
    }
  },
  "nbformat": 4,
  "nbformat_minor": 0
}